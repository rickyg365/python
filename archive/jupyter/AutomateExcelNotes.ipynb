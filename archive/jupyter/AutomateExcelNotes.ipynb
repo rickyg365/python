{
  "nbformat": 4,
  "nbformat_minor": 0,
  "metadata": {
    "colab": {
      "name": "AutomateExcelNotes.ipynb",
      "provenance": [],
      "collapsed_sections": [
        "PXmcTUcaxTAg",
        "1TnkFmJ0wRTE",
        "AISVELwr9IVX",
        "j976DS-17YCG",
        "WWNj1wWy5xXK",
        "VZvQPZb11Cat",
        "09IywKNn1CSt",
        "UMp5vCsiz7J0"
      ]
    },
    "kernelspec": {
      "name": "python3",
      "display_name": "Python 3"
    },
    "language_info": {
      "name": "python"
    }
  },
  "cells": [
    {
      "cell_type": "code",
      "source": [
        "Name: openpyxl Notes\n",
        "Author: rickyg3\n",
        "Date: 02/11/22\n",
        "\n",
        "# Imports\n",
        "import os \n",
        "import datetime\n",
        "\n",
        "from openpyxl import Workbook\n",
        "\n",
        "# Extra Features\n",
        "from openpyxl import load_workbook\n",
        "from openpyxl.drawing.image import Image"
      ],
      "metadata": {
        "id": "69GMvlE4wh4b"
      },
      "execution_count": null,
      "outputs": []
    },
    {
      "cell_type": "markdown",
      "source": [
        "# Table of Contents:\n",
        "----------------------------------------------\n",
        "\n",
        "* Create Workbook\n",
        "* Worksheet manipulation\n",
        "\n",
        "* Playing w/ Data Cells\n",
        "\t* Single Cell\n",
        "\t* Multi Cell\n",
        "\t* Values Only\n",
        "\n",
        "* Manipulating Files\n",
        "\t* Saving File\n",
        "\t* Loading File\n",
        "\n",
        "* Miscellaneous\n",
        "\t* Number Formats\n",
        "\t* Using Formulae\n",
        "\t* Merge/Unmerge Cells\n",
        "\t* Insert an Image\n",
        "\t* Fold (outline)\n",
        "\n",
        "<br>\n",
        "\n",
        "----------------------------------------------"
      ],
      "metadata": {
        "id": "K8jwsZ_0waaa"
      }
    },
    {
      "cell_type": "markdown",
      "source": [
        "# Create Workbook\n",
        "------"
      ],
      "metadata": {
        "id": "ykbADwq79Yt1"
      }
    },
    {
      "cell_type": "code",
      "source": [
        "#Create Workbook \n",
        "workbook = Workbook()"
      ],
      "metadata": {
        "id": "oo1UhImAxDrY"
      },
      "execution_count": null,
      "outputs": []
    },
    {
      "cell_type": "markdown",
      "source": [
        "# Worksheet Manipulation \n",
        "-------------------------------------------------------------------------------\n",
        "\n",
        "A workbook is always created with at least one worksheet, <br>\n",
        "This is set to 0 by default. \n",
        "\n",
        "Unless you modify its value using create_sheet(), <br>\n",
        "you will always get the first worksheet by using this method."
      ],
      "metadata": {
        "id": "PXmcTUcaxTAg"
      }
    },
    {
      "cell_type": "markdown",
      "source": [
        "------\n",
        "### Note:\n",
        "Sheets are given a name automatically when they are created. <br> \n",
        "They are numbered in sequence (Sheet, Sheet1, Sheet2, …). \n",
        "\n",
        "------"
      ],
      "metadata": {
        "id": "1TnkFmJ0wRTE"
      }
    },
    {
      "cell_type": "code",
      "execution_count": null,
      "metadata": {
        "id": "e-vbfbG4wHmz"
      },
      "outputs": [],
      "source": [
        "ws = workbook.active  # first sheet\n",
        "\n",
        "ws1 = workbook.create_sheet(\"Mysheet\") # insert at the end (default)\n",
        "ws2 = workbook.create_sheet(\"Mysheet\", 0) # insert at first position\n",
        "ws3 = workbook.create_sheet(\"Mysheet\", -1) # insert at the penultimate position"
      ]
    },
    {
      "cell_type": "markdown",
      "source": [
        "### Tips:\n",
        "------"
      ],
      "metadata": {
        "id": "AISVELwr9IVX"
      }
    },
    {
      "cell_type": "code",
      "source": [
        "# You can change this name at any time with:\n",
        "ws.title = \"New Title\""
      ],
      "metadata": {
        "id": "zHjfphcJ8iE-"
      },
      "execution_count": null,
      "outputs": []
    },
    {
      "cell_type": "code",
      "source": [
        "# You can review the names of all worksheets of the workbook with: \n",
        "\n",
        "print(workbook.sheetnames)  # OUTPUT >>> ['Sheet2', 'New Title', 'Sheet1']"
      ],
      "metadata": {
        "id": "GnMAkWPz8TCm"
      },
      "execution_count": null,
      "outputs": []
    },
    {
      "cell_type": "code",
      "source": [
        "# You can loop through worksheets\n",
        "\n",
        "for sheet in workbook:\n",
        "\tprint(sheet.title)"
      ],
      "metadata": {
        "id": "WauOSfJL8K3R"
      },
      "execution_count": null,
      "outputs": []
    },
    {
      "cell_type": "code",
      "source": [
        "# You can create copies of worksheets within a single workbook\n",
        "\n",
        "source = workbook.active\n",
        "target = workbook.copy_worksheet(source)"
      ],
      "metadata": {
        "id": "SI1_YDrL7-t3"
      },
      "execution_count": null,
      "outputs": []
    },
    {
      "cell_type": "markdown",
      "source": [
        "------\n",
        "### Final Note:\n",
        "\n",
        "Only cells (including values, styles, hyperlinks and comments) \n",
        "and certain worksheet attribues (including dimensions, format and properties) are copied. \n",
        "All other workbook / worksheet attributes are not copied - e.g. Images, Charts.\n",
        "\n",
        "You also cannot copy worksheets between workbooks. \n",
        "You cannot copy a worksheet if the workbook is open in read-only or write-only mode.\n",
        "\n",
        "------"
      ],
      "metadata": {
        "id": "X7Fm5AQ-7yPG"
      }
    },
    {
      "cell_type": "markdown",
      "source": [
        "# Playing w/ Data Cells \n",
        "-------"
      ],
      "metadata": {
        "id": "j976DS-17YCG"
      }
    },
    {
      "cell_type": "markdown",
      "source": [
        "## Single Cell \n",
        "------\n",
        "\n",
        "Cells can be accessed directly as a key, or\n",
        "you can also use the function\n",
        "\n",
        "``` python \n",
        "worksheet.cell() \n",
        "```"
      ],
      "metadata": {
        "id": "ov-3eL9553fw"
      }
    },
    {
      "cell_type": "code",
      "source": [
        "# Key Method, key='a1'\n",
        "ws['a1'] = 24\n",
        "\n",
        "# Cell Method\n",
        "ws.cell(row=4, column=2, value=10)"
      ],
      "metadata": {
        "id": "v1m3TM4S6veX"
      },
      "execution_count": null,
      "outputs": []
    },
    {
      "cell_type": "markdown",
      "source": [
        "### Side Note:\n",
        "\n",
        "When a worksheet is created in memory, it contains no cells. \n",
        "They are created when first accessed.\n",
        "\n",
        "### Warning:\n",
        "\n",
        "Because of this feature, scrolling through cells \n",
        "instead of accessing them directly will create them all in memory, \n",
        "even if you dont assign them a value.\n",
        "\n",
        "Something like\n"
      ],
      "metadata": {
        "id": "8EU9cfIJ52W3"
      }
    },
    {
      "cell_type": "code",
      "source": [
        "# iterate through first 100 rows and cols\n",
        "for x in range(1,101):\n",
        "  for y in range(1,101):\n",
        "    ws.cell(row=x, column=y)\n"
      ],
      "metadata": {
        "id": "nCpuJ3P-5883"
      },
      "execution_count": null,
      "outputs": []
    },
    {
      "cell_type": "markdown",
      "source": [
        "\n",
        "will create 100x100 cells in memory, for nothing.\n",
        "\n",
        "------"
      ],
      "metadata": {
        "id": "Ajp9Z8Fb52Mg"
      }
    },
    {
      "cell_type": "markdown",
      "source": [
        "## Multi Cell \n",
        "------\n",
        "\n"
      ],
      "metadata": {
        "id": "WWNj1wWy5xXK"
      }
    },
    {
      "cell_type": "markdown",
      "source": [
        "### Method #1"
      ],
      "metadata": {
        "id": "Bq8FleC45ReY"
      }
    },
    {
      "cell_type": "code",
      "source": [
        "# Ranges of cells can be accessed using slicing\n",
        "cell_range = ws['A1':'C2']\n",
        "\n",
        "# Ranges of rows or columns can be obtained similarly:\n",
        "col_c = ws['C']\n",
        "col_range = ws['C:D']\n",
        "row10 = ws[10]\n",
        "row_range = ws[5:10]"
      ],
      "metadata": {
        "id": "dSqYc4l65R6g"
      },
      "execution_count": null,
      "outputs": []
    },
    {
      "cell_type": "markdown",
      "source": [
        "### Method #2"
      ],
      "metadata": {
        "id": "jblUBalZ5NxZ"
      }
    },
    {
      "cell_type": "code",
      "source": [
        "# You can also use the Worksheet.iter_rows() method:\n",
        "for row in ws.iter_rows(min_row=1, max_col=3, max_row=2):\n",
        "\tfor cell in row:\n",
        "\t\tprint(cell)  # Use print(cell.value) to get the actual value of the cell\n",
        "\n",
        "\"\"\"\n",
        ">>> Output:\n",
        "\n",
        "<Cell A1>\n",
        "<Cell B1>\n",
        "<Cell C1>\n",
        "<Cell A2>\n",
        "<Cell B2>\n",
        "<Cell C2>\n",
        "\"\"\"\n",
        " \n",
        "\n",
        "# Likewise the Worksheet.iter_cols() method will return columns:\n",
        "for col in ws.iter_cols(min_row=1, max_col=3, max_row=2):\n",
        "\tfor cell in col:\n",
        "\t\tprint(cell)\n",
        "\n",
        "\"\"\"\n",
        ">>> Output:\n",
        "\n",
        "<Cell A1>\n",
        "<Cell A2>\n",
        "<Cell B1>\n",
        "<Cell B2>\n",
        "<Cell C1>\n",
        "<Cell C2>\n",
        "\"\"\""
      ],
      "metadata": {
        "id": "IG3eTOta4pk6"
      },
      "execution_count": null,
      "outputs": []
    },
    {
      "cell_type": "markdown",
      "source": [
        "------\n",
        "### Alternate Method:\n",
        "\n",
        "If you need to iterate through all the rows or columns of a file, you can instead use the Worksheet.rows property:\n",
        "\n",
        "``` python \n",
        "ws = wb.active \n",
        "tuple(ws.rows)\n",
        "```\n",
        "\n",
        "or the Worksheet.columns property:\n",
        "\n",
        "``` python \n",
        "tuple(ws.columns)\n",
        "```\n",
        "------"
      ],
      "metadata": {
        "id": "IDXN-5tK1CsE"
      }
    },
    {
      "cell_type": "markdown",
      "source": [
        "-----\n",
        "### Note: \n",
        "\n",
        "For performance reasons the Worksheet.iter_cols() method \n",
        "is not available in read-only mode.\n",
        "\n",
        "-----"
      ],
      "metadata": {
        "id": "SGCa-fEw1A38"
      }
    },
    {
      "cell_type": "markdown",
      "source": [
        "## Values Only\n",
        "------\n",
        "\n",
        "If you just want the values from a worksheet \n",
        "you can use the Worksheet.values property. \n",
        "\n",
        "This iterates over all the rows in a worksheet \n",
        "but returns just the cell values:"
      ],
      "metadata": {
        "id": "VZvQPZb11Cat"
      }
    },
    {
      "cell_type": "code",
      "source": [
        "# Iterating through Values\n",
        "for row in ws.values:\n",
        "\tfor value in row:\n",
        "\t\tprint(value)"
      ],
      "metadata": {
        "id": "B0lthklr26d4"
      },
      "execution_count": null,
      "outputs": []
    },
    {
      "cell_type": "markdown",
      "source": [
        "# Manipulating Files\n",
        "------"
      ],
      "metadata": {
        "id": "09IywKNn1CSt"
      }
    },
    {
      "cell_type": "markdown",
      "source": [
        "## Saving File \n",
        "-----\n",
        "The simplest and safest way to save a workbook is by using:\n",
        "\n",
        "Workbook.save()\n"
      ],
      "metadata": {
        "id": "JUaVbgJu1CJs"
      }
    },
    {
      "cell_type": "code",
      "source": [
        "# Save Workbook\n",
        "workbook.save(\"second_test.xlsx\")"
      ],
      "metadata": {
        "id": "3RbmerUX1qQU"
      },
      "execution_count": null,
      "outputs": []
    },
    {
      "cell_type": "markdown",
      "source": [
        "------\n",
        "### Warning:\n",
        "\n",
        "This operation will overwrite existing files without warning.\n",
        "\n",
        "-----\n",
        "### Note:\n",
        "The filename extension is not forced to be xlsx or xlsm, \n",
        "although you might have some trouble \n",
        "opening it directly with another application if you dont use an official extension.\n",
        "\n",
        "As OOXML files are basically ZIP files, \n",
        "you can also open it with your favourite ZIP archive manager.\n",
        "\n",
        "-------"
      ],
      "metadata": {
        "id": "eqCbeA3l1BvE"
      }
    },
    {
      "cell_type": "markdown",
      "source": [
        "## Loading File\n",
        "-----\n",
        "### Note:\n",
        "\n",
        "\\*needs import* <br>\n",
        "from openpyxl import load_workbook\n",
        "\n",
        "\n"
      ],
      "metadata": {
        "id": "hTUE7blbz6Qs"
      }
    },
    {
      "cell_type": "code",
      "source": [
        "# Load test.xlsx\n",
        "wb2 = load_workbook('test.xlsx')"
      ],
      "metadata": {
        "id": "666EKGoc0iH_"
      },
      "execution_count": null,
      "outputs": []
    },
    {
      "cell_type": "markdown",
      "source": [
        "\n",
        "# Miscellaneous\n",
        "------"
      ],
      "metadata": {
        "id": "UMp5vCsiz7J0"
      }
    },
    {
      "cell_type": "markdown",
      "source": [
        "## Number Formats\n"
      ],
      "metadata": {
        "id": "gMMRssrTz5gl"
      }
    },
    {
      "cell_type": "code",
      "source": [
        "# set date using a Python datetime\n",
        "ws['A1'] = datetime.datetime(2010, 7, 21)\n",
        "ws['A1'].number_format  # OUTPUT >>> 'yyyy-mm-dd h:mm:ss'"
      ],
      "metadata": {
        "id": "5ReIQ4Hh0LxN"
      },
      "execution_count": null,
      "outputs": []
    },
    {
      "cell_type": "markdown",
      "source": [
        "## Using Formulae "
      ],
      "metadata": {
        "id": "LhiAyYKNy0ew"
      }
    },
    {
      "cell_type": "code",
      "source": [
        "# add a simple formula\n",
        "ws[\"A1\"] = \"=SUM(1, 1)\""
      ],
      "metadata": {
        "id": "s7jaAMCsz_b1"
      },
      "execution_count": null,
      "outputs": []
    },
    {
      "cell_type": "markdown",
      "source": [
        "## Merge/Unmerge Cells \n",
        "------\n",
        "When you merge cells all cells but the top-left one are removed from the worksheet. \n",
        "To carry the border-information of the merged cell, \n",
        "the boundary cells of the merged cell are created as MergeCells which always have the value None. \n",
        "\n",
        "See Styling Merged Cells for information on formatting merged cells."
      ],
      "metadata": {
        "id": "Q7BZm82ey1qT"
      }
    },
    {
      "cell_type": "code",
      "source": [
        "# This\n",
        "ws.merge_cells('A2:D2')\n",
        "ws.unmerge_cells('A2:D2')\n",
        "\n",
        "# or equivalently\n",
        "ws.merge_cells(start_row=2, start_column=1, end_row=4, end_column=4)\n",
        "ws.unmerge_cells(start_row=2, start_column=1, end_row=4, end_column=4)"
      ],
      "metadata": {
        "id": "Fa7NfG5ezry2"
      },
      "execution_count": null,
      "outputs": []
    },
    {
      "cell_type": "markdown",
      "source": [
        "## Inserting an Image\n",
        "\n",
        "-------------\n",
        "\\* needs import *\n",
        "\n",
        "from openpyxl.drawing.image import Image"
      ],
      "metadata": {
        "id": "3DSkpgDZy1fa"
      }
    },
    {
      "cell_type": "code",
      "source": [
        "# create an image\n",
        "img = Image('logo.png')\n",
        "\n",
        "# add to worksheet and anchor next to cells\n",
        "ws.add_image(img, 'A1')\n",
        "workbook.save('logo.xlsx')"
      ],
      "metadata": {
        "id": "wUL6dpm-zPOt"
      },
      "execution_count": null,
      "outputs": []
    },
    {
      "cell_type": "markdown",
      "source": [
        "## Fold(outline)"
      ],
      "metadata": {
        "id": "JfcGIcpSy1UT"
      }
    },
    {
      "cell_type": "code",
      "source": [
        "# Folding??\n",
        "ws.column_dimensions.group('A','D', hidden=True)\n",
        "ws.row_dimensions.group(1,10, hidden=True)"
      ],
      "metadata": {
        "id": "BegYx1dRzB-T"
      },
      "execution_count": null,
      "outputs": []
    },
    {
      "cell_type": "markdown",
      "source": [
        "## Random\n",
        "-----"
      ],
      "metadata": {
        "id": "LhpIhMFV2usi"
      }
    },
    {
      "cell_type": "code",
      "source": [
        "# Can add rows of data\n",
        "ws.append([1, 2, 3])\n",
        "\n",
        "# Auto converts python types\n",
        "ws['b1'] = datetime.datetime.now()"
      ],
      "metadata": {
        "id": "7ngyjvzz2pha"
      },
      "execution_count": null,
      "outputs": []
    },
    {
      "cell_type": "markdown",
      "source": [
        " # End of File "
      ],
      "metadata": {
        "id": "ByJT3unFy1AD"
      }
    }
  ]
}